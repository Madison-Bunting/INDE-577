{
 "cells": [
  {
   "cell_type": "markdown",
   "metadata": {},
   "source": [
    "# Exploring a New Dataset\n",
    "\n",
    "Before running analysis on a new dataset, one must first explore the data to gain an understanding of what they are working with. This notebook contains an example of doing this with the primary dataset used in this repository, BusinessAnalyst, which was sourced from https://www.kaggle.com/andrewmvd/business-analyst-jobs."
   ]
  },
  {
   "cell_type": "code",
   "execution_count": 11,
   "metadata": {},
   "outputs": [],
   "source": [
    "#Always include important imports at the top\n",
    "import numpy as np #for linear algebra functions\n",
    "import pandas as pd #for data processing the CSV\n",
    "import seaborn as sns\n",
    "import matplotlib as plt"
   ]
  },
  {
   "cell_type": "code",
   "execution_count": 12,
   "metadata": {},
   "outputs": [
    {
     "name": "stdout",
     "output_type": "stream",
     "text": [
      "   index                                         Job Title  \\\n",
      "0      0  Business Analyst - Clinical & Logistics Platform   \n",
      "1      1                                      Data Analyst   \n",
      "2      2   Information Security Analyst, Incident Response   \n",
      "3      3                     Analyst - FP&A Global Revenue   \n",
      "4      4                     Investment Analyst - Graduate   \n",
      "\n",
      "               Salary Estimate  \\\n",
      "0  $56K-$102K (Glassdoor est.)   \n",
      "1  $56K-$102K (Glassdoor est.)   \n",
      "2  $56K-$102K (Glassdoor est.)   \n",
      "3  $56K-$102K (Glassdoor est.)   \n",
      "4  $56K-$102K (Glassdoor est.)   \n",
      "\n",
      "                                     Job Description  Rating  \\\n",
      "0  Company Overview\\n\\n\\nAt Memorial Sloan Ketter...     3.9   \n",
      "1  For more than a decade, Asembia has been worki...     3.6   \n",
      "2  Job Description Summary\\nThe Information Secur...     3.6   \n",
      "3  Magnite is the world's largest independent sel...     3.4   \n",
      "4  About Swiss Re\\n\\nThe Swiss Re Group is one of...     3.8   \n",
      "\n",
      "               Company Name            Location         Headquarters  \\\n",
      "0  Memorial Sloan-Kettering        New York, NY         New York, NY   \n",
      "1                   Asembia    Florham Park, NJ     Florham Park, NJ   \n",
      "2                        BD  Franklin Lakes, NJ   Franklin Lakes, NJ   \n",
      "3           Rubicon Project        New York, NY      Los Angeles, CA   \n",
      "4                  Swiss Re        New York, NY  Zurich, Switzerland   \n",
      "\n",
      "                    Size  Founded       Type of ownership  \\\n",
      "0       10000+ employees     1884  Nonprofit Organization   \n",
      "1  501 to 1000 employees     2004       Company - Private   \n",
      "2       10000+ employees     1897        Company - Public   \n",
      "3   201 to 500 employees     2007        Company - Public   \n",
      "4       10000+ employees     1863        Company - Public   \n",
      "\n",
      "                             Industry                     Sector  \\\n",
      "0    Health Care Services & Hospitals                Health Care   \n",
      "1           Biotech & Pharmaceuticals  Biotech & Pharmaceuticals   \n",
      "2  Health Care Products Manufacturing              Manufacturing   \n",
      "3                            Internet     Information Technology   \n",
      "4     Insurance Agencies & Brokerages                  Insurance   \n",
      "\n",
      "                      Revenue  \n",
      "0      $2 to $5 billion (USD)  \n",
      "1     $5 to $10 million (USD)  \n",
      "2          $10+ billion (USD)  \n",
      "3  $100 to $500 million (USD)  \n",
      "4          $10+ billion (USD)  \n"
     ]
    }
   ],
   "source": [
    "df = pd.read_csv(\"https://raw.githubusercontent.com/Madison-Bunting/INDE-577/main/BusinessAnalyst.csv\")\n",
    "print(df.head()) #shows the first several rows of the dataset"
   ]
  },
  {
   "cell_type": "code",
   "execution_count": 5,
   "metadata": {},
   "outputs": [
    {
     "name": "stdout",
     "output_type": "stream",
     "text": [
      "(2444, 14)\n"
     ]
    }
   ],
   "source": [
    "#size of dataset\n",
    "print(df.shape)"
   ]
  },
  {
   "cell_type": "markdown",
   "metadata": {},
   "source": [
    "This dataset contains 2444 examples and 14 variables, including ID"
   ]
  },
  {
   "cell_type": "code",
   "execution_count": 6,
   "metadata": {},
   "outputs": [
    {
     "name": "stdout",
     "output_type": "stream",
     "text": [
      "index                0\n",
      "Job Title            0\n",
      "Salary Estimate      0\n",
      "Job Description      0\n",
      "Rating               0\n",
      "Company Name         0\n",
      "Location             0\n",
      "Headquarters         0\n",
      "Size                 0\n",
      "Founded              0\n",
      "Type of ownership    0\n",
      "Industry             0\n",
      "Sector               0\n",
      "Revenue              0\n",
      "dtype: int64\n"
     ]
    }
   ],
   "source": [
    "#Check for missing values\n",
    "missing_df = df.isnull().sum()\n",
    "print(missing_df)"
   ]
  },
  {
   "cell_type": "markdown",
   "metadata": {},
   "source": [
    "No missing values were found"
   ]
  },
  {
   "cell_type": "code",
   "execution_count": 14,
   "metadata": {},
   "outputs": [
    {
     "ename": "AttributeError",
     "evalue": "module 'matplotlib' has no attribute 'xticks'",
     "output_type": "error",
     "traceback": [
      "\u001b[1;31m---------------------------------------------------------------------------\u001b[0m",
      "\u001b[1;31mAttributeError\u001b[0m                            Traceback (most recent call last)",
      "\u001b[1;32m<ipython-input-14-adb9b1bba4da>\u001b[0m in \u001b[0;36m<module>\u001b[1;34m\u001b[0m\n\u001b[0;32m      2\u001b[0m \u001b[0mdf\u001b[0m\u001b[1;33m[\u001b[0m\u001b[1;34m'Type of ownership'\u001b[0m\u001b[1;33m]\u001b[0m\u001b[1;33m.\u001b[0m\u001b[0mvalue_counts\u001b[0m\u001b[1;33m(\u001b[0m\u001b[1;33m)\u001b[0m\u001b[1;33m.\u001b[0m\u001b[0mplot\u001b[0m\u001b[1;33m(\u001b[0m\u001b[0mkind\u001b[0m\u001b[1;33m=\u001b[0m\u001b[1;34m'bar'\u001b[0m\u001b[1;33m)\u001b[0m\u001b[1;33m\u001b[0m\u001b[1;33m\u001b[0m\u001b[0m\n\u001b[0;32m      3\u001b[0m \u001b[1;33m\u001b[0m\u001b[0m\n\u001b[1;32m----> 4\u001b[1;33m \u001b[0mplt\u001b[0m\u001b[1;33m.\u001b[0m\u001b[0mxticks\u001b[0m\u001b[1;33m(\u001b[0m\u001b[0mrotation\u001b[0m\u001b[1;33m=\u001b[0m\u001b[1;34m'horizontal'\u001b[0m\u001b[1;33m)\u001b[0m \u001b[1;31m#Rotate xticks\u001b[0m\u001b[1;33m\u001b[0m\u001b[1;33m\u001b[0m\u001b[0m\n\u001b[0m\u001b[0;32m      5\u001b[0m \u001b[0mplt\u001b[0m\u001b[1;33m.\u001b[0m\u001b[0mxlabel\u001b[0m\u001b[1;33m(\u001b[0m\u001b[1;34m'Type of Ownership'\u001b[0m\u001b[1;33m)\u001b[0m\u001b[1;33m\u001b[0m\u001b[1;33m\u001b[0m\u001b[0m\n\u001b[0;32m      6\u001b[0m \u001b[0mplt\u001b[0m\u001b[1;33m.\u001b[0m\u001b[0mylabel\u001b[0m\u001b[1;33m(\u001b[0m\u001b[1;34m'Count'\u001b[0m\u001b[1;33m)\u001b[0m\u001b[1;33m\u001b[0m\u001b[1;33m\u001b[0m\u001b[0m\n",
      "\u001b[1;31mAttributeError\u001b[0m: module 'matplotlib' has no attribute 'xticks'"
     ]
    },
    {
     "data": {
      "image/png": "[encoded data removed]",
      "text/plain": [
       "<Figure size 432x288 with 1 Axes>"
      ]
     },
     "metadata": {
      "needs_background": "light"
     },
     "output_type": "display_data"
    }
   ],
   "source": [
    "#Exploring how many examples there are of each target variable\n",
    "df['Type of ownership'].value_counts().plot(kind='bar')\n",
    "\n",
    "#Add count over the bar\n",
    "ax=df['Type of ownership'].value_counts().plot.bar(width=.8)\n",
    "for i, v in df['Type of ownership'].value_counts().reset_index().iterrows():\n",
    "    ax.text(i, v.Type_of_ownership + 0.3, v.Species, color='blue')\n",
    "\n",
    "plt.xlabel('Type of Ownership')\n",
    "plt.ylabel('Count')\n",
    "plt.title('Count of Business Analyst Postings Company Ownership Model')\n",
    "plt.show()"
   ]
  },
  {
   "cell_type": "code",
   "execution_count": null,
   "metadata": {},
   "outputs": [],
   "source": []
  }
 ],
 "metadata": {
  "kernelspec": {
   "display_name": "Python 3",
   "language": "python",
   "name": "python3"
  },
  "language_info": {
   "codemirror_mode": {
    "name": "ipython",
    "version": 3
   },
   "file_extension": ".py",
   "mimetype": "text/x-python",
   "name": "python",
   "nbconvert_exporter": "python",
   "pygments_lexer": "ipython3",
   "version": "3.8.3"
  }
 },
 "nbformat": 4,
 "nbformat_minor": 4
}
