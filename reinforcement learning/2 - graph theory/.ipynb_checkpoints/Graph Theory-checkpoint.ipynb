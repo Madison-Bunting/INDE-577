{
 "cells": [
  {
   "cell_type": "markdown",
   "metadata": {},
   "source": [
    "# Graph Theory\n",
    "This notebook will construct a graph of the manager-employee relationships within a company."
   ]
  },
  {
   "cell_type": "code",
   "execution_count": 9,
   "metadata": {},
   "outputs": [],
   "source": [
    "# Import the necessary python packages\n",
    "import networkx as nx\n",
    "import pandas as pd\n",
    "import matplotlib.pyplot as plt"
   ]
  },
  {
   "cell_type": "code",
   "execution_count": 14,
   "metadata": {},
   "outputs": [],
   "source": [
    "#importing the dataset as a dataframe\n",
    "df = pd.read_csv(\"https://raw.githubusercontent.com/Madison-Bunting/INDE-577/main/reinforcement%20learning/2%20-%20graph%20theory/HRDatasetGraphTheory.csv\")"
   ]
  },
  {
   "cell_type": "code",
   "execution_count": 15,
   "metadata": {},
   "outputs": [],
   "source": [
    "G = nx.Graph()"
   ]
  },
  {
   "cell_type": "code",
   "execution_count": 63,
   "metadata": {},
   "outputs": [
    {
     "ename": "SyntaxError",
     "evalue": "invalid syntax (<ipython-input-63-dc074f2607b6>, line 6)",
     "output_type": "error",
     "traceback": [
      "\u001b[1;36m  File \u001b[1;32m\"<ipython-input-63-dc074f2607b6>\"\u001b[1;36m, line \u001b[1;32m6\u001b[0m\n\u001b[1;33m    for i in 1:len(edges_raw):\u001b[0m\n\u001b[1;37m                              ^\u001b[0m\n\u001b[1;31mSyntaxError\u001b[0m\u001b[1;31m:\u001b[0m invalid syntax\n"
     ]
    }
   ],
   "source": [
    "nodes_list = df['Employee_Name']\n",
    "edges_raw = df[['EmpID','Employee_Name', 'ManagerName']]\n",
    "print(edges_raw)\n",
    "for i in nodes_list:\n",
    "    G.add_node(i)\n",
    "    \n",
    "length = len(edges_raw\n",
    "            )\n",
    "for i in 1:len(edges_raw):\n",
    "    G.add_edge(edges_raw['Employee_Name'][i],edges_raw['ManagerName'][i])\n",
    "\n",
    "\n",
    "    \n",
    "print(G.edges)"
   ]
  },
  {
   "cell_type": "code",
   "execution_count": null,
   "metadata": {},
   "outputs": [],
   "source": [
    "#extract out labels\n",
    "y_data = df['Attrition']\n",
    "y_data = y_data.to_numpy()\n",
    "\n",
    "for i, label in enumerate(y_data):\n",
    "    if label == 'Yes':\n",
    "        y_data[i] = 1\n",
    "    elif label == 'No':\n",
    "        y_data[i] = -1"
   ]
  },
  {
   "cell_type": "code",
   "execution_count": null,
   "metadata": {},
   "outputs": [],
   "source": []
  }
 ],
 "metadata": {
  "kernelspec": {
   "display_name": "Python 3",
   "language": "python",
   "name": "python3"
  },
  "language_info": {
   "codemirror_mode": {
    "name": "ipython",
    "version": 3
   },
   "file_extension": ".py",
   "mimetype": "text/x-python",
   "name": "python",
   "nbconvert_exporter": "python",
   "pygments_lexer": "ipython3",
   "version": "3.8.3"
  }
 },
 "nbformat": 4,
 "nbformat_minor": 4
}
