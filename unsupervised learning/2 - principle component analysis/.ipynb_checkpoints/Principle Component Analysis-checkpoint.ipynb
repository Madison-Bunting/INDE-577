{
 "cells": [
  {
   "cell_type": "markdown",
   "metadata": {},
   "source": [
    "# Principle Component Analysis\n",
    "This notebook will implement Principle Component Analysis with the [IBMEmployeeAttrition](https://github.com/Madison-Bunting/INDE-577/blob/main/IBMEmployeeAttrition.csv) dataset."
   ]
  },
  {
   "cell_type": "code",
   "execution_count": 77,
   "metadata": {},
   "outputs": [],
   "source": [
    "#Always include important imports at the top\n",
    "import numpy as np #for linear algebra functions\n",
    "import pandas as pd #for data processing the CSV\n",
    "\n",
    "#visualization\n",
    "import seaborn as sns\n",
    "import matplotlib.pyplot as plt\n",
    "%matplotlib inline\n",
    "\n",
    "#sklearn imports\n",
    "from sklearn import preprocessing\n",
    "from sklearn.preprocessing import StandardScaler\n",
    "from sklearn.model_selection import train_test_split\n",
    "from sklearn.decomposition import PCA"
   ]
  },
  {
   "cell_type": "code",
   "execution_count": 78,
   "metadata": {},
   "outputs": [],
   "source": [
    "#importing the dataset as a dataframe\n",
    "df = pd.read_csv(\"https://raw.githubusercontent.com/Madison-Bunting/INDE-577/main/IBMEmployeeAttrition.csv\")"
   ]
  },
  {
   "cell_type": "markdown",
   "metadata": {},
   "source": [
    "## Pre-Processing\n",
    "Before we can run PCA, we need to pre-process the data and encode labels. We will do this using sklearn's preprocessing package."
   ]
  },
  {
   "cell_type": "markdown",
   "metadata": {},
   "source": [
    "First, we remove variables with zero variance (as uncovered in the [Exploring A New Dataset](https://github.com/Madison-Bunting/INDE-577/blob/main/Exploring%20a%20New%20Dataset.ipynb) Notebook."
   ]
  },
  {
   "cell_type": "code",
   "execution_count": 79,
   "metadata": {},
   "outputs": [],
   "source": [
    "#Drop variables with zero variance: EmployeeCount, Over18, and StandardHours\n",
    "df.drop('EmployeeCount', axis = 1, inplace = True)\n",
    "df.drop('Over18', axis = 1, inplace = True)\n",
    "df.drop('StandardHours', axis = 1, inplace = True)\n",
    "\n",
    "#Replacing Yes/No in the target variable (Attrition) with 1/0\n",
    "df['Attrition'] = df['Attrition'].map({'No':0, 'Yes':1})"
   ]
  },
  {
   "cell_type": "markdown",
   "metadata": {},
   "source": [
    "Correlated variables will impact PCA outputs, so those should be dropped as well. As uncovered in the [Exploring A New Dataset](https://github.com/Madison-Bunting/INDE-577/blob/main/Exploring%20a%20New%20Dataset.ipynb) Notebook, we should drop Job Level, Total Working Years, Years in Current Role, Years with Current Manager, and Percent Salary Hike."
   ]
  },
  {
   "cell_type": "code",
   "execution_count": 80,
   "metadata": {},
   "outputs": [
    {
     "data": {
      "text/html": [
       "<div>\n",
       "<style scoped>\n",
       "    .dataframe tbody tr th:only-of-type {\n",
       "        vertical-align: middle;\n",
       "    }\n",
       "\n",
       "    .dataframe tbody tr th {\n",
       "        vertical-align: top;\n",
       "    }\n",
       "\n",
       "    .dataframe thead th {\n",
       "        text-align: right;\n",
       "    }\n",
       "</style>\n",
       "<table border=\"1\" class=\"dataframe\">\n",
       "  <thead>\n",
       "    <tr style=\"text-align: right;\">\n",
       "      <th></th>\n",
       "      <th>Index</th>\n",
       "      <th>Age</th>\n",
       "      <th>Attrition</th>\n",
       "      <th>BusinessTravel</th>\n",
       "      <th>DailyRate</th>\n",
       "      <th>Department</th>\n",
       "      <th>DistanceFromHome</th>\n",
       "      <th>Education</th>\n",
       "      <th>EducationField</th>\n",
       "      <th>EmployeeNumber</th>\n",
       "      <th>...</th>\n",
       "      <th>MonthlyRate</th>\n",
       "      <th>NumCompaniesWorked</th>\n",
       "      <th>OverTime</th>\n",
       "      <th>PerformanceRating</th>\n",
       "      <th>RelationshipSatisfaction</th>\n",
       "      <th>StockOptionLevel</th>\n",
       "      <th>TrainingTimesLastYear</th>\n",
       "      <th>WorkLifeBalance</th>\n",
       "      <th>YearsAtCompany</th>\n",
       "      <th>YearsSinceLastPromotion</th>\n",
       "    </tr>\n",
       "  </thead>\n",
       "  <tbody>\n",
       "    <tr>\n",
       "      <th>0</th>\n",
       "      <td>1</td>\n",
       "      <td>41</td>\n",
       "      <td>1</td>\n",
       "      <td>Travel_Rarely</td>\n",
       "      <td>1102</td>\n",
       "      <td>Sales</td>\n",
       "      <td>1</td>\n",
       "      <td>2</td>\n",
       "      <td>Life Sciences</td>\n",
       "      <td>1</td>\n",
       "      <td>...</td>\n",
       "      <td>19479</td>\n",
       "      <td>8</td>\n",
       "      <td>Yes</td>\n",
       "      <td>3</td>\n",
       "      <td>1</td>\n",
       "      <td>0</td>\n",
       "      <td>0</td>\n",
       "      <td>1</td>\n",
       "      <td>6</td>\n",
       "      <td>0</td>\n",
       "    </tr>\n",
       "    <tr>\n",
       "      <th>1</th>\n",
       "      <td>2</td>\n",
       "      <td>49</td>\n",
       "      <td>0</td>\n",
       "      <td>Travel_Frequently</td>\n",
       "      <td>279</td>\n",
       "      <td>Research &amp; Development</td>\n",
       "      <td>8</td>\n",
       "      <td>1</td>\n",
       "      <td>Life Sciences</td>\n",
       "      <td>2</td>\n",
       "      <td>...</td>\n",
       "      <td>24907</td>\n",
       "      <td>1</td>\n",
       "      <td>No</td>\n",
       "      <td>4</td>\n",
       "      <td>4</td>\n",
       "      <td>1</td>\n",
       "      <td>3</td>\n",
       "      <td>3</td>\n",
       "      <td>10</td>\n",
       "      <td>1</td>\n",
       "    </tr>\n",
       "    <tr>\n",
       "      <th>2</th>\n",
       "      <td>3</td>\n",
       "      <td>37</td>\n",
       "      <td>1</td>\n",
       "      <td>Travel_Rarely</td>\n",
       "      <td>1373</td>\n",
       "      <td>Research &amp; Development</td>\n",
       "      <td>2</td>\n",
       "      <td>2</td>\n",
       "      <td>Other</td>\n",
       "      <td>4</td>\n",
       "      <td>...</td>\n",
       "      <td>2396</td>\n",
       "      <td>6</td>\n",
       "      <td>Yes</td>\n",
       "      <td>3</td>\n",
       "      <td>2</td>\n",
       "      <td>0</td>\n",
       "      <td>3</td>\n",
       "      <td>3</td>\n",
       "      <td>0</td>\n",
       "      <td>0</td>\n",
       "    </tr>\n",
       "    <tr>\n",
       "      <th>3</th>\n",
       "      <td>4</td>\n",
       "      <td>33</td>\n",
       "      <td>0</td>\n",
       "      <td>Travel_Frequently</td>\n",
       "      <td>1392</td>\n",
       "      <td>Research &amp; Development</td>\n",
       "      <td>3</td>\n",
       "      <td>4</td>\n",
       "      <td>Life Sciences</td>\n",
       "      <td>5</td>\n",
       "      <td>...</td>\n",
       "      <td>23159</td>\n",
       "      <td>1</td>\n",
       "      <td>Yes</td>\n",
       "      <td>3</td>\n",
       "      <td>3</td>\n",
       "      <td>0</td>\n",
       "      <td>3</td>\n",
       "      <td>3</td>\n",
       "      <td>8</td>\n",
       "      <td>3</td>\n",
       "    </tr>\n",
       "    <tr>\n",
       "      <th>4</th>\n",
       "      <td>5</td>\n",
       "      <td>27</td>\n",
       "      <td>0</td>\n",
       "      <td>Travel_Rarely</td>\n",
       "      <td>591</td>\n",
       "      <td>Research &amp; Development</td>\n",
       "      <td>2</td>\n",
       "      <td>1</td>\n",
       "      <td>Medical</td>\n",
       "      <td>7</td>\n",
       "      <td>...</td>\n",
       "      <td>16632</td>\n",
       "      <td>9</td>\n",
       "      <td>No</td>\n",
       "      <td>3</td>\n",
       "      <td>4</td>\n",
       "      <td>1</td>\n",
       "      <td>3</td>\n",
       "      <td>3</td>\n",
       "      <td>2</td>\n",
       "      <td>2</td>\n",
       "    </tr>\n",
       "    <tr>\n",
       "      <th>...</th>\n",
       "      <td>...</td>\n",
       "      <td>...</td>\n",
       "      <td>...</td>\n",
       "      <td>...</td>\n",
       "      <td>...</td>\n",
       "      <td>...</td>\n",
       "      <td>...</td>\n",
       "      <td>...</td>\n",
       "      <td>...</td>\n",
       "      <td>...</td>\n",
       "      <td>...</td>\n",
       "      <td>...</td>\n",
       "      <td>...</td>\n",
       "      <td>...</td>\n",
       "      <td>...</td>\n",
       "      <td>...</td>\n",
       "      <td>...</td>\n",
       "      <td>...</td>\n",
       "      <td>...</td>\n",
       "      <td>...</td>\n",
       "      <td>...</td>\n",
       "    </tr>\n",
       "    <tr>\n",
       "      <th>1465</th>\n",
       "      <td>1466</td>\n",
       "      <td>36</td>\n",
       "      <td>0</td>\n",
       "      <td>Travel_Frequently</td>\n",
       "      <td>884</td>\n",
       "      <td>Research &amp; Development</td>\n",
       "      <td>23</td>\n",
       "      <td>2</td>\n",
       "      <td>Medical</td>\n",
       "      <td>2061</td>\n",
       "      <td>...</td>\n",
       "      <td>12290</td>\n",
       "      <td>4</td>\n",
       "      <td>No</td>\n",
       "      <td>3</td>\n",
       "      <td>3</td>\n",
       "      <td>1</td>\n",
       "      <td>3</td>\n",
       "      <td>3</td>\n",
       "      <td>5</td>\n",
       "      <td>0</td>\n",
       "    </tr>\n",
       "    <tr>\n",
       "      <th>1466</th>\n",
       "      <td>1467</td>\n",
       "      <td>39</td>\n",
       "      <td>0</td>\n",
       "      <td>Travel_Rarely</td>\n",
       "      <td>613</td>\n",
       "      <td>Research &amp; Development</td>\n",
       "      <td>6</td>\n",
       "      <td>1</td>\n",
       "      <td>Medical</td>\n",
       "      <td>2062</td>\n",
       "      <td>...</td>\n",
       "      <td>21457</td>\n",
       "      <td>4</td>\n",
       "      <td>No</td>\n",
       "      <td>3</td>\n",
       "      <td>1</td>\n",
       "      <td>1</td>\n",
       "      <td>5</td>\n",
       "      <td>3</td>\n",
       "      <td>7</td>\n",
       "      <td>1</td>\n",
       "    </tr>\n",
       "    <tr>\n",
       "      <th>1467</th>\n",
       "      <td>1468</td>\n",
       "      <td>27</td>\n",
       "      <td>0</td>\n",
       "      <td>Travel_Rarely</td>\n",
       "      <td>155</td>\n",
       "      <td>Research &amp; Development</td>\n",
       "      <td>4</td>\n",
       "      <td>3</td>\n",
       "      <td>Life Sciences</td>\n",
       "      <td>2064</td>\n",
       "      <td>...</td>\n",
       "      <td>5174</td>\n",
       "      <td>1</td>\n",
       "      <td>Yes</td>\n",
       "      <td>4</td>\n",
       "      <td>2</td>\n",
       "      <td>1</td>\n",
       "      <td>0</td>\n",
       "      <td>3</td>\n",
       "      <td>6</td>\n",
       "      <td>0</td>\n",
       "    </tr>\n",
       "    <tr>\n",
       "      <th>1468</th>\n",
       "      <td>1469</td>\n",
       "      <td>49</td>\n",
       "      <td>0</td>\n",
       "      <td>Travel_Frequently</td>\n",
       "      <td>1023</td>\n",
       "      <td>Sales</td>\n",
       "      <td>2</td>\n",
       "      <td>3</td>\n",
       "      <td>Medical</td>\n",
       "      <td>2065</td>\n",
       "      <td>...</td>\n",
       "      <td>13243</td>\n",
       "      <td>2</td>\n",
       "      <td>No</td>\n",
       "      <td>3</td>\n",
       "      <td>4</td>\n",
       "      <td>0</td>\n",
       "      <td>3</td>\n",
       "      <td>2</td>\n",
       "      <td>9</td>\n",
       "      <td>0</td>\n",
       "    </tr>\n",
       "    <tr>\n",
       "      <th>1469</th>\n",
       "      <td>1470</td>\n",
       "      <td>34</td>\n",
       "      <td>0</td>\n",
       "      <td>Travel_Rarely</td>\n",
       "      <td>628</td>\n",
       "      <td>Research &amp; Development</td>\n",
       "      <td>8</td>\n",
       "      <td>3</td>\n",
       "      <td>Medical</td>\n",
       "      <td>2068</td>\n",
       "      <td>...</td>\n",
       "      <td>10228</td>\n",
       "      <td>2</td>\n",
       "      <td>No</td>\n",
       "      <td>3</td>\n",
       "      <td>1</td>\n",
       "      <td>0</td>\n",
       "      <td>3</td>\n",
       "      <td>4</td>\n",
       "      <td>4</td>\n",
       "      <td>1</td>\n",
       "    </tr>\n",
       "  </tbody>\n",
       "</table>\n",
       "<p>1470 rows × 28 columns</p>\n",
       "</div>"
      ],
      "text/plain": [
       "      Index  Age  Attrition     BusinessTravel  DailyRate  \\\n",
       "0         1   41          1      Travel_Rarely       1102   \n",
       "1         2   49          0  Travel_Frequently        279   \n",
       "2         3   37          1      Travel_Rarely       1373   \n",
       "3         4   33          0  Travel_Frequently       1392   \n",
       "4         5   27          0      Travel_Rarely        591   \n",
       "...     ...  ...        ...                ...        ...   \n",
       "1465   1466   36          0  Travel_Frequently        884   \n",
       "1466   1467   39          0      Travel_Rarely        613   \n",
       "1467   1468   27          0      Travel_Rarely        155   \n",
       "1468   1469   49          0  Travel_Frequently       1023   \n",
       "1469   1470   34          0      Travel_Rarely        628   \n",
       "\n",
       "                  Department  DistanceFromHome  Education EducationField  \\\n",
       "0                      Sales                 1          2  Life Sciences   \n",
       "1     Research & Development                 8          1  Life Sciences   \n",
       "2     Research & Development                 2          2          Other   \n",
       "3     Research & Development                 3          4  Life Sciences   \n",
       "4     Research & Development                 2          1        Medical   \n",
       "...                      ...               ...        ...            ...   \n",
       "1465  Research & Development                23          2        Medical   \n",
       "1466  Research & Development                 6          1        Medical   \n",
       "1467  Research & Development                 4          3  Life Sciences   \n",
       "1468                   Sales                 2          3        Medical   \n",
       "1469  Research & Development                 8          3        Medical   \n",
       "\n",
       "      EmployeeNumber  ...  MonthlyRate NumCompaniesWorked  OverTime  \\\n",
       "0                  1  ...        19479                  8       Yes   \n",
       "1                  2  ...        24907                  1        No   \n",
       "2                  4  ...         2396                  6       Yes   \n",
       "3                  5  ...        23159                  1       Yes   \n",
       "4                  7  ...        16632                  9        No   \n",
       "...              ...  ...          ...                ...       ...   \n",
       "1465            2061  ...        12290                  4        No   \n",
       "1466            2062  ...        21457                  4        No   \n",
       "1467            2064  ...         5174                  1       Yes   \n",
       "1468            2065  ...        13243                  2        No   \n",
       "1469            2068  ...        10228                  2        No   \n",
       "\n",
       "      PerformanceRating RelationshipSatisfaction  StockOptionLevel  \\\n",
       "0                     3                        1                 0   \n",
       "1                     4                        4                 1   \n",
       "2                     3                        2                 0   \n",
       "3                     3                        3                 0   \n",
       "4                     3                        4                 1   \n",
       "...                 ...                      ...               ...   \n",
       "1465                  3                        3                 1   \n",
       "1466                  3                        1                 1   \n",
       "1467                  4                        2                 1   \n",
       "1468                  3                        4                 0   \n",
       "1469                  3                        1                 0   \n",
       "\n",
       "     TrainingTimesLastYear  WorkLifeBalance  YearsAtCompany  \\\n",
       "0                        0                1               6   \n",
       "1                        3                3              10   \n",
       "2                        3                3               0   \n",
       "3                        3                3               8   \n",
       "4                        3                3               2   \n",
       "...                    ...              ...             ...   \n",
       "1465                     3                3               5   \n",
       "1466                     5                3               7   \n",
       "1467                     0                3               6   \n",
       "1468                     3                2               9   \n",
       "1469                     3                4               4   \n",
       "\n",
       "      YearsSinceLastPromotion  \n",
       "0                           0  \n",
       "1                           1  \n",
       "2                           0  \n",
       "3                           3  \n",
       "4                           2  \n",
       "...                       ...  \n",
       "1465                        0  \n",
       "1466                        1  \n",
       "1467                        0  \n",
       "1468                        0  \n",
       "1469                        1  \n",
       "\n",
       "[1470 rows x 28 columns]"
      ]
     },
     "execution_count": 80,
     "metadata": {},
     "output_type": "execute_result"
    }
   ],
   "source": [
    "#Dropping variables listed above that are correlated\n",
    "df_final = df.drop(['JobLevel','TotalWorkingYears','YearsInCurrentRole', 'YearsWithCurrManager' , 'PercentSalaryHike'], axis=1)\n",
    "#Confirm those variables were sucessfully dropped\n",
    "df_final"
   ]
  },
  {
   "cell_type": "code",
   "execution_count": 81,
   "metadata": {},
   "outputs": [],
   "source": [
    "#Create a function which takes the dataset as input and ouputs the processed dataset\n",
    "def preprocessor(df):\n",
    "    res_df = df.copy()\n",
    "    le = preprocessing.LabelEncoder()\n",
    "    \n",
    "    res_df['BusinessTravel'] = le.fit_transform(res_df['BusinessTravel'])\n",
    "    res_df['Department'] = le.fit_transform(res_df['Department'])\n",
    "    res_df['Education'] = le.fit_transform(res_df['Education'])\n",
    "    res_df['EducationField'] = le.fit_transform(res_df['EducationField'])\n",
    "    res_df['JobRole'] = le.fit_transform(res_df['JobRole'])\n",
    "    res_df['Gender'] = le.fit_transform(res_df['Gender'])\n",
    "    res_df['MaritalStatus'] = le.fit_transform(res_df['MaritalStatus'])\n",
    "    res_df['OverTime'] = le.fit_transform(res_df['OverTime'])\n",
    "    res_df['Attrition'] = le.fit_transform(res_df['Attrition'])\n",
    "    return res_df\n",
    "\n",
    "#Run the function on the desired dataset\n",
    "encoded_df = preprocessor(df_final)"
   ]
  },
  {
   "cell_type": "markdown",
   "metadata": {},
   "source": [
    "The next step is to select which features we want to use with PCA and standardize them."
   ]
  },
  {
   "cell_type": "code",
   "execution_count": 82,
   "metadata": {},
   "outputs": [
    {
     "data": {
      "text/plain": [
       "0       1\n",
       "1       0\n",
       "2       1\n",
       "3       0\n",
       "4       0\n",
       "       ..\n",
       "1465    0\n",
       "1466    0\n",
       "1467    0\n",
       "1468    0\n",
       "1469    0\n",
       "Name: Attrition, Length: 1470, dtype: int64"
      ]
     },
     "execution_count": 82,
     "metadata": {},
     "output_type": "execute_result"
    }
   ],
   "source": [
    "#Selecting features\n",
    "X = encoded_df.drop(['Attrition'],axis =1)\n",
    "y = encoded_df['Attrition']\n",
    "y"
   ]
  },
  {
   "cell_type": "code",
   "execution_count": 83,
   "metadata": {},
   "outputs": [
    {
     "name": "stdout",
     "output_type": "stream",
     "text": [
      "Mean: (0, 0)\n",
      "Standard deviation: (1, 1)\n"
     ]
    }
   ],
   "source": [
    "#Standardizing features\n",
    "sc = StandardScaler()\n",
    "X = sc.fit_transform(X)\n",
    "\n",
    "#Confirm the new mean and standard deviation of the dataset\n",
    "mean = np.mean(X, axis=0)\n",
    "print('Mean: (%d, %d)' % (mean[0], mean[1]))\n",
    "standard_deviation = np.std(X, axis=0)\n",
    "print('Standard deviation: (%d, %d)' % (standard_deviation[0], standard_deviation[1]))"
   ]
  },
  {
   "cell_type": "markdown",
   "metadata": {},
   "source": [
    "## Split into Train and Test data\n",
    "To apply PCA, the data must be split into \"training\" and \"test\" data."
   ]
  },
  {
   "cell_type": "code",
   "execution_count": 84,
   "metadata": {},
   "outputs": [],
   "source": [
    "#Create training and test sets\n",
    "X_train, X_test, y_train, y_test = train_test_split(\n",
    "    X, y, test_size = 0.25, random_state = 40)"
   ]
  },
  {
   "cell_type": "markdown",
   "metadata": {},
   "source": [
    "We can decide the number of components we need in the output, but it is more effictive to specify the minimum variation that we want to be retained and allow the model to provide the number of components."
   ]
  },
  {
   "cell_type": "code",
   "execution_count": 85,
   "metadata": {},
   "outputs": [
    {
     "name": "stdout",
     "output_type": "stream",
     "text": [
      "To retain 90 % of the variation, we needed 21 components\n"
     ]
    }
   ],
   "source": [
    "# Make an instance of the model and specify that 90% of the variance needs to be retained\n",
    "n = 90\n",
    "pca = PCA(n/100)\n",
    "\n",
    "#Fit the model with data\n",
    "pca.fit(X_train)\n",
    "\n",
    "print('To retain',n,'% of the variation, we needed',pca.n_components_,'components')"
   ]
  },
  {
   "cell_type": "code",
   "execution_count": 86,
   "metadata": {},
   "outputs": [
    {
     "name": "stdout",
     "output_type": "stream",
     "text": [
      "(1102, 21)\n",
      "(368, 21)\n"
     ]
    }
   ],
   "source": [
    "X_train_pca = pca.transform(X_train)\n",
    "X_test_pca = pca.transform(X_test)\n",
    "\n",
    "print(X_train_pca.shape)\n",
    "print(X_test_pca.shape)"
   ]
  },
  {
   "cell_type": "code",
   "execution_count": 87,
   "metadata": {},
   "outputs": [
    {
     "data": {
      "text/plain": [
       "Text(0, 0.5, 'Second Principal Component')"
      ]
     },
     "execution_count": 87,
     "metadata": {},
     "output_type": "execute_result"
    },
    {
     "data": {
      "image/png": "[encoded data removed]",
      "text/plain": [
       "<Figure size 432x288 with 1 Axes>"
      ]
     },
     "metadata": {
      "needs_background": "light"
     },
     "output_type": "display_data"
    }
   ],
   "source": [
    "#Visualize the principal components\n",
    "plt.scatter(X_train_pca[:,0],X_train_pca[:,1])\n",
    "plt.xlabel('First Principal Component')\n",
    "plt.ylabel('Second Principal Component')"
   ]
  },
  {
   "cell_type": "code",
   "execution_count": 91,
   "metadata": {},
   "outputs": [
    {
     "data": {
      "text/plain": [
       "array([ 0.03498842,  0.45044156,  0.04333775, -0.00456985, -0.12121745,\n",
       "       -0.00121176,  0.17304076, -0.04459927,  0.0349722 ,  0.01658942,\n",
       "       -0.0310212 , -0.00360652,  0.01459375, -0.19084229, -0.05203105,\n",
       "       -0.16957274,  0.50103497, -0.0318582 ,  0.16604293,  0.00296566,\n",
       "       -0.0177857 ,  0.04133265,  0.11233753, -0.05741361,  0.01639979,\n",
       "        0.46628444,  0.40189726])"
      ]
     },
     "execution_count": 91,
     "metadata": {},
     "output_type": "execute_result"
    }
   ],
   "source": [
    "#Investigating at the principal components\n",
    "pca.components_[0]"
   ]
  },
  {
   "cell_type": "markdown",
   "metadata": {},
   "source": [
    "The algorithm is implemented at the end of the notebooks below: \n",
    "- [Logistic Regression](https://github.com/Madison-Bunting/INDE-577/tree/main/supervised%20learning/2%20-%20logistic%20regression)\n",
    "- [K Nearest Neighbors](https://github.com/Madison-Bunting/INDE-577/tree/main/supervised%20learning/5%20-%20K%20nearest%20neighbors)\n",
    "- [Naive Bayes Classifier](https://github.com/Madison-Bunting/INDE-577/blob/main/supervised%20learning/6%20-%20naive%20bayes%20classifier/README.md)\n",
    "- [Support Vector Machines](https://github.com/Madison-Bunting/INDE-577/tree/main/supervised%20learning/7%20-%20support%20vector%20machines)\n",
    "- [Decision/Regression Trees](https://github.com/Madison-Bunting/INDE-577/tree/main/supervised%20learning/8%20-%20decision-regression%20trees)\n",
    "- [Ensemble Learning](https://github.com/Madison-Bunting/INDE-577/tree/main/supervised%20learning/9%20-%20ensemble%20learning)\n",
    "\n",
    "The data below was pulled from the results in those notebooks so it is easier to visualize the impact of PCA with different algorithms."
   ]
  },
  {
   "cell_type": "code",
   "execution_count": 92,
   "metadata": {},
   "outputs": [
    {
     "data": {
      "text/html": [
       "<div>\n",
       "<style scoped>\n",
       "    .dataframe tbody tr th:only-of-type {\n",
       "        vertical-align: middle;\n",
       "    }\n",
       "\n",
       "    .dataframe tbody tr th {\n",
       "        vertical-align: top;\n",
       "    }\n",
       "\n",
       "    .dataframe thead th {\n",
       "        text-align: right;\n",
       "    }\n",
       "</style>\n",
       "<table border=\"1\" class=\"dataframe\">\n",
       "  <thead>\n",
       "    <tr style=\"text-align: right;\">\n",
       "      <th></th>\n",
       "      <th>Model</th>\n",
       "      <th>Accuracy - no PCA (%)</th>\n",
       "      <th>Accuracy - PCA (%)</th>\n",
       "    </tr>\n",
       "  </thead>\n",
       "  <tbody>\n",
       "    <tr>\n",
       "      <th>0</th>\n",
       "      <td>Logistic Regression</td>\n",
       "      <td>90</td>\n",
       "      <td>88</td>\n",
       "    </tr>\n",
       "    <tr>\n",
       "      <th>1</th>\n",
       "      <td>Decision Tree - Gini</td>\n",
       "      <td>85</td>\n",
       "      <td>84</td>\n",
       "    </tr>\n",
       "    <tr>\n",
       "      <th>2</th>\n",
       "      <td>Decision Tree - Entropy</td>\n",
       "      <td>85</td>\n",
       "      <td>84</td>\n",
       "    </tr>\n",
       "    <tr>\n",
       "      <th>3</th>\n",
       "      <td>K Nearest Neighbors</td>\n",
       "      <td>85</td>\n",
       "      <td>86</td>\n",
       "    </tr>\n",
       "    <tr>\n",
       "      <th>4</th>\n",
       "      <td>Naive Bayes</td>\n",
       "      <td>87</td>\n",
       "      <td>88</td>\n",
       "    </tr>\n",
       "    <tr>\n",
       "      <th>5</th>\n",
       "      <td>SVM</td>\n",
       "      <td>87</td>\n",
       "      <td>86</td>\n",
       "    </tr>\n",
       "    <tr>\n",
       "      <th>6</th>\n",
       "      <td>Random Forest</td>\n",
       "      <td>86</td>\n",
       "      <td>85</td>\n",
       "    </tr>\n",
       "  </tbody>\n",
       "</table>\n",
       "</div>"
      ],
      "text/plain": [
       "                     Model  Accuracy - no PCA (%)  Accuracy - PCA (%)\n",
       "0      Logistic Regression                     90                  88\n",
       "1     Decision Tree - Gini                     85                  84\n",
       "2  Decision Tree - Entropy                     85                  84\n",
       "3      K Nearest Neighbors                     85                  86\n",
       "4              Naive Bayes                     87                  88\n",
       "5                      SVM                     87                  86\n",
       "6            Random Forest                     86                  85"
      ]
     },
     "execution_count": 92,
     "metadata": {},
     "output_type": "execute_result"
    }
   ],
   "source": [
    "accuracy = {'Model': ['Logistic Regression', 'Decision Tree - Gini', 'Decision Tree - Entropy', 'K Nearest Neighbors', 'Naive Bayes', 'SVM', 'Random Forest'], \n",
    "               'Accuracy - no PCA (%)': [90, 85, 85, 85, 87, 87, 86], \n",
    "               'Accuracy - PCA (%)': [88, 84, 84, 86, 88, 86, 85]\n",
    "              }\n",
    "\n",
    "acc = pd.DataFrame(data=accuracy)\n",
    "acc"
   ]
  },
  {
   "cell_type": "code",
   "execution_count": 93,
   "metadata": {},
   "outputs": [],
   "source": [
    "acc = acc.set_index('Model')"
   ]
  },
  {
   "cell_type": "code",
   "execution_count": 94,
   "metadata": {},
   "outputs": [
    {
     "data": {
      "image/png": "[encoded data removed]",
      "text/plain": [
       "<Figure size 1440x576 with 1 Axes>"
      ]
     },
     "metadata": {},
     "output_type": "display_data"
    }
   ],
   "source": [
    "sns.set_style(style='white')\n",
    "ax = acc.plot(kind='bar', figsize=(20,8), width=0.4, color=['#42b3d5', '#e85285'], fontsize=18)\n",
    "\n",
    "ax.legend(loc='best')\n",
    "plt.xticks(rotation=0, ha=\"center\")\n",
    "\n",
    "ax.spines['top'].set_visible(False)\n",
    "ax.spines['right'].set_visible(False)\n",
    "ax.spines['bottom'].set_linewidth(False)\n",
    "ax.spines['left'].set_linewidth(False)\n",
    "\n",
    "ax.yaxis.grid()\n",
    "ax.get_yaxis().set_visible(False)\n",
    "plt.title('Impact of PCA on Accuracy (%)', fontsize=20)\n",
    "\n",
    "for n in range(2):\n",
    "    for index, val in enumerate(acc.iloc[:,n].transpose()): \n",
    "        label=str(val) + '%'\n",
    "        \n",
    "        if n==0:\n",
    "            ax.annotate(label, xy=(index-0.15, val-5), color='#ffffff', fontsize=14, fontweight='bold')\n",
    "        elif n==1:\n",
    "            ax.annotate(label, xy=(index+0.05, val-5), color='#ffffff', fontsize=14, fontweight='bold')\n",
    "\n",
    "plt.show()"
   ]
  },
  {
   "cell_type": "markdown",
   "metadata": {},
   "source": [
    "In logistic regression, decision tree (gini and entropy), SVM, and random forest, the accuracy decreases slightly after PCA. In KNN nad naive bayes, accuracy increases slightly."
   ]
  },
  {
   "cell_type": "code",
   "execution_count": 95,
   "metadata": {},
   "outputs": [
    {
     "data": {
      "text/html": [
       "<div>\n",
       "<style scoped>\n",
       "    .dataframe tbody tr th:only-of-type {\n",
       "        vertical-align: middle;\n",
       "    }\n",
       "\n",
       "    .dataframe tbody tr th {\n",
       "        vertical-align: top;\n",
       "    }\n",
       "\n",
       "    .dataframe thead th {\n",
       "        text-align: right;\n",
       "    }\n",
       "</style>\n",
       "<table border=\"1\" class=\"dataframe\">\n",
       "  <thead>\n",
       "    <tr style=\"text-align: right;\">\n",
       "      <th></th>\n",
       "      <th>Model</th>\n",
       "      <th>Train Time - no PCA (s)</th>\n",
       "      <th>Train Time - PCA (s)</th>\n",
       "    </tr>\n",
       "  </thead>\n",
       "  <tbody>\n",
       "    <tr>\n",
       "      <th>0</th>\n",
       "      <td>Logistic Regression</td>\n",
       "      <td>0.0325</td>\n",
       "      <td>0.0150</td>\n",
       "    </tr>\n",
       "    <tr>\n",
       "      <th>1</th>\n",
       "      <td>Decision Tree - Gini</td>\n",
       "      <td>0.0105</td>\n",
       "      <td>0.0112</td>\n",
       "    </tr>\n",
       "    <tr>\n",
       "      <th>2</th>\n",
       "      <td>Decision Tree - Entropy</td>\n",
       "      <td>0.0113</td>\n",
       "      <td>0.0140</td>\n",
       "    </tr>\n",
       "    <tr>\n",
       "      <th>3</th>\n",
       "      <td>K Nearest Neighbors</td>\n",
       "      <td>0.0147</td>\n",
       "      <td>0.0105</td>\n",
       "    </tr>\n",
       "    <tr>\n",
       "      <th>4</th>\n",
       "      <td>Naive Bayes</td>\n",
       "      <td>0.0040</td>\n",
       "      <td>0.0030</td>\n",
       "    </tr>\n",
       "    <tr>\n",
       "      <th>5</th>\n",
       "      <td>SVM</td>\n",
       "      <td>0.3665</td>\n",
       "      <td>0.3492</td>\n",
       "    </tr>\n",
       "    <tr>\n",
       "      <th>6</th>\n",
       "      <td>Random Forest</td>\n",
       "      <td>0.5382</td>\n",
       "      <td>0.7902</td>\n",
       "    </tr>\n",
       "  </tbody>\n",
       "</table>\n",
       "</div>"
      ],
      "text/plain": [
       "                     Model  Train Time - no PCA (s)   Train Time - PCA (s) \n",
       "0      Logistic Regression                    0.0325                 0.0150\n",
       "1     Decision Tree - Gini                    0.0105                 0.0112\n",
       "2  Decision Tree - Entropy                    0.0113                 0.0140\n",
       "3      K Nearest Neighbors                    0.0147                 0.0105\n",
       "4              Naive Bayes                    0.0040                 0.0030\n",
       "5                      SVM                    0.3665                 0.3492\n",
       "6            Random Forest                    0.5382                 0.7902"
      ]
     },
     "execution_count": 95,
     "metadata": {},
     "output_type": "execute_result"
    }
   ],
   "source": [
    "time = {'Model': ['Logistic Regression', 'Decision Tree - Gini', 'Decision Tree - Entropy', 'K Nearest Neighbors', 'Naive Bayes', 'SVM', 'Random Forest'],\n",
    "                  'Train Time - no PCA (s) ': [0.0325, 0.0105, 0.0113, 0.0147, 0.0040, 0.3665, 0.5382],\n",
    "                  'Train Time - PCA (s) ': [0.0150, 0.0112, 0.0140, 0.0105, 0.0030, 0.3492, 0.7902]}\n",
    "\n",
    "tm = pd.DataFrame(data=time)\n",
    "tm"
   ]
  },
  {
   "cell_type": "code",
   "execution_count": 96,
   "metadata": {},
   "outputs": [],
   "source": [
    "tm = tm.set_index('Model')"
   ]
  },
  {
   "cell_type": "code",
   "execution_count": 97,
   "metadata": {},
   "outputs": [
    {
     "data": {
      "text/plain": [
       "Text(0.5, 1.0, 'Impact of PCA on Train Time (Seconds)')"
      ]
     },
     "execution_count": 97,
     "metadata": {},
     "output_type": "execute_result"
    },
    {
     "data": {
      "image/png": "[encoded data removed]",
      "text/plain": [
       "<Figure size 1440x576 with 1 Axes>"
      ]
     },
     "metadata": {},
     "output_type": "display_data"
    }
   ],
   "source": [
    "ax = tm.plot(kind='bar', figsize=(20,8), width=0.6, color=['#9932CC', '#76EE00'], fontsize=18)\n",
    "\n",
    "ax.legend(loc='best')\n",
    "plt.xticks(rotation=0, ha=\"center\")\n",
    "\n",
    "ax.spines['top'].set_visible(False)\n",
    "ax.spines['right'].set_visible(False)\n",
    "ax.spines['bottom'].set_linewidth(False)\n",
    "ax.spines['left'].set_linewidth(False)\n",
    "ax.yaxis.grid()\n",
    "ax.get_yaxis().set_visible(False)\n",
    "plt.title('Impact of PCA on Train Time (Seconds)', fontsize=20)\n",
    "\n"
   ]
  },
  {
   "cell_type": "markdown",
   "metadata": {},
   "source": [
    "In logistic regression, KNN, naive bayes, and SVM, train time improved with PCA.\n",
    "In decision tree (both algorithms) and random forest, train time increases after PCA."
   ]
  },
  {
   "cell_type": "code",
   "execution_count": null,
   "metadata": {},
   "outputs": [],
   "source": []
  }
 ],
 "metadata": {
  "kernelspec": {
   "display_name": "Python 3",
   "language": "python",
   "name": "python3"
  },
  "language_info": {
   "codemirror_mode": {
    "name": "ipython",
    "version": 3
   },
   "file_extension": ".py",
   "mimetype": "text/x-python",
   "name": "python",
   "nbconvert_exporter": "python",
   "pygments_lexer": "ipython3",
   "version": "3.8.3"
  }
 },
 "nbformat": 4,
 "nbformat_minor": 4
}
