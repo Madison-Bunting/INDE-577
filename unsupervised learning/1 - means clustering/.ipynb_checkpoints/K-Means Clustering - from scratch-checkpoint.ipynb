{
 "cells": [
  {
   "cell_type": "markdown",
   "metadata": {},
   "source": [
    "# K Means Clustering\n",
    "This notebook will build K-means clustering from scratch, then implement it with the [IBMEmployeeAttrition](https://github.com/Madison-Bunting/INDE-577/blob/main/IBMEmployeeAttrition.csv) dataset. We will then implement sklearn's principle component and k-means clustering algorithms on the same dataset."
   ]
  },
  {
   "cell_type": "code",
   "execution_count": 25,
   "metadata": {},
   "outputs": [],
   "source": [
    "#Always include important imports at the top\n",
    "import numpy as np #for linear algebra functions\n",
    "import pandas as pd #for data processing the CSV\n",
    "import random\n",
    "import time\n",
    "\n",
    "#visualization\n",
    "import seaborn as sns\n",
    "import matplotlib.pyplot as plt\n",
    "\n",
    "#sklearn imports\n",
    "from sklearn import preprocessing\n",
    "from sklearn.preprocessing import StandardScaler\n",
    "from sklearn.model_selection import train_test_split\n",
    "from sklearn.decomposition import PCA\n",
    "from sklearn.cluster import KMeans\n",
    "\n",
    "#importing the dataset as a dataframe\n",
    "df = pd.read_csv(\"https://raw.githubusercontent.com/Madison-Bunting/INDE-577/main/IBMEmployeeAttrition.csv\")"
   ]
  },
  {
   "cell_type": "markdown",
   "metadata": {},
   "source": [
    "## Pre-Processing\n",
    "Preprocess the data by removing variables with zero variance (as uncovered in the [Exploring A New Dataset](https://github.com/Madison-Bunting/INDE-577/blob/main/Exploring%20a%20New%20Dataset.ipynb) Notebook, and encode categorical variables so they can be used as part of the analysis."
   ]
  },
  {
   "cell_type": "code",
   "execution_count": 13,
   "metadata": {},
   "outputs": [],
   "source": [
    "#Drop variables with zero variance: EmployeeCount, Over18, and StandardHours\n",
    "df.drop('EmployeeCount', axis = 1, inplace = True)\n",
    "df.drop('Over18', axis = 1, inplace = True)\n",
    "df.drop('StandardHours', axis = 1, inplace = True)\n",
    "\n",
    "#Replacing Yes/No in the target variable (Attrition) with 1/0\n",
    "df['Attrition'] = df['Attrition'].map({'No':0, 'Yes':1})"
   ]
  },
  {
   "cell_type": "code",
   "execution_count": 14,
   "metadata": {},
   "outputs": [],
   "source": [
    "#Create a function which takes the dataset as input and ouputs the processed dataset\n",
    "def preprocessor(df):\n",
    "    res_df = df.copy()\n",
    "    le = preprocessing.LabelEncoder()\n",
    "    \n",
    "    res_df['BusinessTravel'] = le.fit_transform(res_df['BusinessTravel'])\n",
    "    res_df['Department'] = le.fit_transform(res_df['Department'])\n",
    "    res_df['Education'] = le.fit_transform(res_df['Education'])\n",
    "    res_df['EducationField'] = le.fit_transform(res_df['EducationField'])\n",
    "    res_df['JobRole'] = le.fit_transform(res_df['JobRole'])\n",
    "    res_df['Gender'] = le.fit_transform(res_df['Gender'])\n",
    "    res_df['MaritalStatus'] = le.fit_transform(res_df['MaritalStatus'])\n",
    "    res_df['OverTime'] = le.fit_transform(res_df['OverTime'])\n",
    "    res_df['Attrition'] = le.fit_transform(res_df['Attrition'])\n",
    "    return res_df\n",
    "\n",
    "#Run the function on the desired dataset\n",
    "encoded_df = preprocessor(df)"
   ]
  },
  {
   "cell_type": "markdown",
   "metadata": {},
   "source": [
    "The next step is to select which features we want to use with logistic regression and standardize them."
   ]
  },
  {
   "cell_type": "code",
   "execution_count": 15,
   "metadata": {},
   "outputs": [
    {
     "data": {
      "text/plain": [
       "0       1\n",
       "1       0\n",
       "2       1\n",
       "3       0\n",
       "4       0\n",
       "       ..\n",
       "1465    0\n",
       "1466    0\n",
       "1467    0\n",
       "1468    0\n",
       "1469    0\n",
       "Name: Attrition, Length: 1470, dtype: int64"
      ]
     },
     "execution_count": 15,
     "metadata": {},
     "output_type": "execute_result"
    }
   ],
   "source": [
    "#Selecting features\n",
    "X = encoded_df.drop(['Attrition'],axis =1)\n",
    "y = encoded_df['Attrition']\n",
    "y"
   ]
  },
  {
   "cell_type": "code",
   "execution_count": 16,
   "metadata": {},
   "outputs": [
    {
     "name": "stdout",
     "output_type": "stream",
     "text": [
      "Mean: (0, 0)\n",
      "Standard deviation: (1, 1)\n"
     ]
    }
   ],
   "source": [
    "#Standardizing features\n",
    "sc = StandardScaler()\n",
    "X = sc.fit_transform(X)\n",
    "\n",
    "#Confirm the new mean and standard deviation of the dataset\n",
    "mean = np.mean(X, axis=0)\n",
    "print('Mean: (%d, %d)' % (mean[0], mean[1]))\n",
    "standard_deviation = np.std(X, axis=0)\n",
    "print('Standard deviation: (%d, %d)' % (standard_deviation[0], standard_deviation[1]))"
   ]
  },
  {
   "cell_type": "markdown",
   "metadata": {},
   "source": [
    "# K-Means Clustering from scratch\n",
    "The cell below contains a class, k_means_clustering, that executes the algorithm described in the ReadMe for this folder: for a given k, it selects k random points to be the initial centroids, then calculates the distance from each feature vector to each centroid and assigns each datapoint to a centroid. It then updates the clusters and recalculates the centroids, and updates the assignment of datapoints until it reaches maximum iterations."
   ]
  },
  {
   "cell_type": "code",
   "execution_count": 17,
   "metadata": {},
   "outputs": [],
   "source": [
    "class k_means_clustering():\n",
    "    def __init__(self, k = 3, max_iter = 100, epsilon = 0.01) -> None:\n",
    "        self.X = None\n",
    "        self.k = k\n",
    "        self.max_iter = max_iter\n",
    "        self.epsilon = epsilon\n",
    "        self.centroid_history = None\n",
    "        self.final_centroids = None\n",
    "\n",
    "    def fit(self, X):\n",
    "        self.X = X\n",
    "        C_old = self.initialize_centroids()\n",
    "        C_new = self.new_centroids(C_old)\n",
    "        self.centroid_history = [C_old, C_new]\n",
    "        centroid_distances = [self.distance(p[0], p[1]) for p in zip(C_old, C_new)]\n",
    "\n",
    "        iter = 0\n",
    "        while max(centroid_distances) > self.epsilon and iter<self.max_iter:\n",
    "            C_old, C_new = C_new, self.new_centroids(C_new)\n",
    "            self.centroid_history.append(C_new)\n",
    "            centroid_distances = [self.distance(p[0], p[1]) for p in zip(C_old, C_new)]\n",
    "            iter += 1\n",
    "        self.final_centroids = C_new\n",
    "\n",
    "    def initialize_centroids(self):\n",
    "        centroids = []\n",
    "        for _ in range(self.k):\n",
    "            i = np.random.randint(len(self.X))\n",
    "            centroids.append(self.X[i, :])\n",
    "        return centroids\n",
    "\n",
    "    def new_centroids(self, centroids):\n",
    "        new_centroids = []\n",
    "        A = self.make_classes(centroids)\n",
    "        for i in range(len(centroids)):\n",
    "            if len(A[i])>0:\n",
    "                new_centroids.append(1/len(A[i])*sum(A[i])) \n",
    "        return new_centroids\n",
    "\n",
    "    def distance(self, a, b):\n",
    "        return np.sqrt((a-b)@(a-b))\n",
    "\n",
    "    def clustering(self, x, centroids):\n",
    "        distances = np.array([self.distance(x, centroid) for centroid in centroids])\n",
    "        return np.argmin(distances)\n",
    "\n",
    "    def make_classes(self, centroids):\n",
    "        A = dict()\n",
    "        for i in range(len(centroids)):\n",
    "            A[i] = []\n",
    "        for x in self.X:\n",
    "            A[self.clustering(x, centroids)].append(x)\n",
    "        return A\n",
    "\n",
    "    def predict_classes(self, data, centroids):\n",
    "        A = dict()\n",
    "        for i in range(len(centroids)):\n",
    "            A[i] = []\n",
    "        for x in data:\n",
    "            A[self.clustering(x, centroids)].append(x)\n",
    "        return A\n",
    "    \n",
    "    def mse_classes(self, centroids):\n",
    "        errors = []\n",
    "        A_classes = self.make_classes(centroids)\n",
    "        for i, centroid in enumerate(centroids):\n",
    "            error = sum(.5*(centroid-a)@(centroid-a) for a in A_classes[i])\n",
    "            errors.append(error)\n",
    "        return sum(errors)"
   ]
  },
  {
   "cell_type": "markdown",
   "metadata": {},
   "source": [
    "## Implementation\n",
    "The cell below defines which variables we would like to use for clustering."
   ]
  },
  {
   "cell_type": "code",
   "execution_count": 18,
   "metadata": {},
   "outputs": [],
   "source": [
    "X = np.asarray(encoded_df[['MonthlyIncome','YearsAtCompany']])"
   ]
  },
  {
   "cell_type": "markdown",
   "metadata": {},
   "source": [
    "The following cell runs k means with 2 clusters, reports the centroids and graphs the color-coded results in a scatterplot. "
   ]
  },
  {
   "cell_type": "code",
   "execution_count": 19,
   "metadata": {},
   "outputs": [
    {
     "name": "stdout",
     "output_type": "stream",
     "text": [
      "[array([1.40604939e+04, 1.19272727e+01]), array([4315.21578947,    5.58421053])]\n"
     ]
    },
    {
     "data": {
      "text/plain": [
       "Text(0, 0.5, 'YearsAtCompany')"
      ]
     },
     "execution_count": 19,
     "metadata": {},
     "output_type": "execute_result"
    },
    {
     "data": {
      "image/png": "[encoded data removed]",
      "text/plain": [
       "<Figure size 432x288 with 1 Axes>"
      ]
     },
     "metadata": {
      "needs_background": "light"
     },
     "output_type": "display_data"
    }
   ],
   "source": [
    "k_means = k_means_clustering(k=2, max_iter=100, epsilon=0.01)\n",
    "k_means.fit(X)\n",
    "\n",
    "centroids = k_means.final_centroids\n",
    "print(centroids)\n",
    "\n",
    "clusters = k_means.predict_classes(X, k_means.final_centroids)\n",
    "for label, _ in clusters.items():\n",
    "    for x in clusters[label]:\n",
    "        if label == 0:\n",
    "            plt.scatter(x[0],x[1],color = \"blue\")\n",
    "        else:\n",
    "            plt.scatter(x[0],x[1],color = \"red\")\n",
    "plt.xlabel('MonthlyIncome')\n",
    "plt.ylabel(\"YearsAtCompany\")"
   ]
  },
  {
   "cell_type": "markdown",
   "metadata": {},
   "source": [
    "It appears this dataset does not have 2 clear clusters along these variables. The function below outputs the centroids and final MSE, as well as a graph of error over the course of the training process, for the number of clusters up to and including k to observe which value of k is the best fit for the dataset."
   ]
  },
  {
   "cell_type": "code",
   "execution_count": 20,
   "metadata": {},
   "outputs": [
    {
     "data": {
      "image/png": "[encoded data removed]",
      "text/plain": [
       "<Figure size 432x288 with 1 Axes>"
      ]
     },
     "metadata": {
      "needs_background": "light"
     },
     "output_type": "display_data"
    },
    {
     "name": "stdout",
     "output_type": "stream",
     "text": [
      "Centroids for 2 clusters: [array([1.79638613e+04, 1.38686131e+01]), array([2602.67196819,    3.99204771]), array([4822.39467312,    6.57384988]), array([7269.58078603,    7.28384279]), array([1.13443245e+04, 1.06968085e+01])]\n",
      "MSE for 2 clusters: 602839915.87\n"
     ]
    },
    {
     "data": {
      "image/png": "[encoded data removed]",
      "text/plain": [
       "<Figure size 432x288 with 1 Axes>"
      ]
     },
     "metadata": {
      "needs_background": "light"
     },
     "output_type": "display_data"
    },
    {
     "name": "stdout",
     "output_type": "stream",
     "text": [
      "Centroids for 3 clusters: [array([1.13443245e+04, 1.06968085e+01]), array([2602.67196819,    3.99204771]), array([7269.58078603,    7.28384279]), array([1.79638613e+04, 1.38686131e+01]), array([4822.39467312,    6.57384988])]\n",
      "MSE for 3 clusters: 602839915.87\n"
     ]
    },
    {
     "data": {
      "image/png": "[encoded data removed]",
      "text/plain": [
       "<Figure size 432x288 with 1 Axes>"
      ]
     },
     "metadata": {
      "needs_background": "light"
     },
     "output_type": "display_data"
    },
    {
     "name": "stdout",
     "output_type": "stream",
     "text": [
      "Centroids for 4 clusters: [array([1.79638613e+04, 1.38686131e+01]), array([2602.67196819,    3.99204771]), array([1.13443245e+04, 1.06968085e+01]), array([4822.39467312,    6.57384988]), array([7269.58078603,    7.28384279])]\n",
      "MSE for 4 clusters: 602839915.87\n"
     ]
    },
    {
     "data": {
      "image/png": "[encoded data removed]",
      "text/plain": [
       "<Figure size 432x288 with 1 Axes>"
      ]
     },
     "metadata": {
      "needs_background": "light"
     },
     "output_type": "display_data"
    },
    {
     "name": "stdout",
     "output_type": "stream",
     "text": [
      "Centroids for 5 clusters: [array([1.79381159e+04, 1.40000000e+01]), array([5735.046,    6.922]), array([2830.83305509,    4.25542571]), array([1.08182704e+04, 1.01287554e+01])]\n",
      "MSE for 5 clusters: 901988307.687\n"
     ]
    },
    {
     "data": {
      "image/png": "[encoded data removed]",
      "text/plain": [
       "<Figure size 432x288 with 1 Axes>"
      ]
     },
     "metadata": {
      "needs_background": "light"
     },
     "output_type": "display_data"
    }
   ],
   "source": [
    "def k_means_compare(k, max_iter, epsilon):\n",
    "    mse_list = []\n",
    "    \n",
    "    for j in range(1,k):\n",
    "        k_means = k_means_clustering(k, max_iter, epsilon)\n",
    "        k_means.fit(X)\n",
    "        \n",
    "        centroids = k_means.final_centroids\n",
    "        mse = k_means.mse_classes(centroids)\n",
    "        mse_list.append(mse)\n",
    "        errors = [k_means.mse_classes(centroid) for centroid in k_means.centroid_history]\n",
    "        \n",
    "        #plot the MSE for a given k over a given number of iterations\n",
    "        plt.figure()\n",
    "        plt.plot([i for i in range(1,len(errors)+1)], errors)\n",
    "        plt.title(f'{j+1} Clusters')\n",
    "        plt.xlabel('iteration')\n",
    "        plt.ylabel(\"MSE\")\n",
    "        plt.show()\n",
    "        \n",
    "        print(\"Centroids for\", j + 1, \"clusters:\", centroids)\n",
    "        print(\"MSE for\", j + 1, \"clusters:\", round(mse, 3))\n",
    "\n",
    "    #plot the MSE over the values of k to determine which k is best\n",
    "    plt.figure()\n",
    "    plt.plot([i for i in range(2,len(mse_list)+2)], mse_list)\n",
    "    plt.xlabel('k')\n",
    "    plt.ylabel(\"MSE\")\n",
    "    plt.show()\n",
    "        \n",
    "#calling the function                \n",
    "k_means_compare(5, 100, 0.01)"
   ]
  },
  {
   "cell_type": "markdown",
   "metadata": {},
   "source": [
    "Typically, as k increases, MSE must decrease until k is equal to the number of datapoints, so we should see the graph start at a high MSE and decrease as k decreases. From these results, it is very apparent that k > 2 does not produce a better result than k = 2, and k > 4 produces worse clusters."
   ]
  },
  {
   "cell_type": "markdown",
   "metadata": {},
   "source": [
    "# Using sklearn's functions\n",
    "First we will create training and testing sets. Then we will use PCA to simplify the data."
   ]
  },
  {
   "cell_type": "code",
   "execution_count": 37,
   "metadata": {},
   "outputs": [],
   "source": [
    "#Create training and test sets\n",
    "X_train, X_test, y_train, y_test = train_test_split(\n",
    "    X, y, test_size = 0.25, random_state = 40)"
   ]
  },
  {
   "cell_type": "code",
   "execution_count": 38,
   "metadata": {},
   "outputs": [
    {
     "name": "stdout",
     "output_type": "stream",
     "text": [
      "To retain 90 % of the variation, we needed 1 components\n"
     ]
    }
   ],
   "source": [
    "# Make an instance of the model and specify that 90% of the variance needs to be retained\n",
    "n = 90\n",
    "pca = PCA(n/100)\n",
    "\n",
    "# Fit the PCA on the training set\n",
    "pca.fit(X_train)\n",
    "\n",
    "print('To retain',n,'% of the variation, we needed',pca.n_components_,'components')"
   ]
  },
  {
   "cell_type": "code",
   "execution_count": 39,
   "metadata": {},
   "outputs": [],
   "source": [
    "# Applying transformation to both Training and Test set\n",
    "\n",
    "X_train_pca = pca.transform(X_train)\n",
    "X_test_pca = pca.transform(X_test)"
   ]
  },
  {
   "cell_type": "code",
   "execution_count": 48,
   "metadata": {},
   "outputs": [],
   "source": [
    "#create a list of the weighted cluster sum of squares\n",
    "wcss = []\n",
    "for i in range(1,11):\n",
    "    #initiate the model\n",
    "    k_means = KMeans(n_clusters=i,random_state=40)\n",
    "    #fit the model with the data\n",
    "    k_means.fit(X_train, y_train)\n",
    "    wcss.append(k_means.inertia_)"
   ]
  },
  {
   "cell_type": "code",
   "execution_count": 49,
   "metadata": {},
   "outputs": [
    {
     "data": {
      "text/plain": [
       "Text(0, 0.5, 'weighted cluster sum of squares')"
      ]
     },
     "execution_count": 49,
     "metadata": {},
     "output_type": "execute_result"
    },
    {
     "data": {
      "image/png": "[encoded data removed]",
      "text/plain": [
       "<Figure size 432x288 with 1 Axes>"
      ]
     },
     "metadata": {
      "needs_background": "light"
     },
     "output_type": "display_data"
    }
   ],
   "source": [
    "#Visualize the sum of squares for a variety of k values to assess which k is best\n",
    "plt.plot(range(1,11),wcss)\n",
    "plt.xticks(range(1,11));\n",
    "plt.xlabel('k')\n",
    "plt.ylabel('weighted cluster sum of squares')"
   ]
  },
  {
   "cell_type": "markdown",
   "metadata": {},
   "source": [
    "The elbow method above demonstrates the optimal number of clusters for this dataset is 4."
   ]
  },
  {
   "cell_type": "code",
   "execution_count": 74,
   "metadata": {},
   "outputs": [
    {
     "name": "stdout",
     "output_type": "stream",
     "text": [
      "Train Time (seconds) of K-Means Clustering without PCA: 0.18159985542297363\n"
     ]
    }
   ],
   "source": [
    "#K-means without PCA\n",
    "\n",
    "start = time.time()\n",
    "\n",
    "#initiate the model\n",
    "k_means = KMeans(n_clusters=4,random_state=40)\n",
    "#fit the model with the data\n",
    "k_means.fit(X_train, y_train)\n",
    "\n",
    "end = time.time()\n",
    "kmeans_time = end-start\n",
    "print('Train Time (seconds) of K-Means Clustering without PCA:', kmeans_time)\n",
    "\n",
    "y_pred_kmeans = kmeans.predict(X_test)\n"
   ]
  },
  {
   "cell_type": "code",
   "execution_count": 75,
   "metadata": {},
   "outputs": [
    {
     "name": "stdout",
     "output_type": "stream",
     "text": [
      "Train Time (seconds) of K-Means Clustering with PCA: 0.14368700981140137\n"
     ]
    }
   ],
   "source": [
    "#K-means with PCA\n",
    "start = time.time()\n",
    "\n",
    "kmeans_pca = KMeans(n_clusters=4,random_state=40)\n",
    "kmeans_pca.fit(X_train_pca,y_train)\n",
    "\n",
    "end = time.time()\n",
    "kmeans_time_pca = end-start\n",
    "print('Train Time (seconds) of K-Means Clustering with PCA:', kmeans_time_pca)\n",
    "\n",
    "y_pred_kmeans_pca = kmeans_pca.predict(X_test_pca)"
   ]
  },
  {
   "cell_type": "code",
   "execution_count": null,
   "metadata": {},
   "outputs": [],
   "source": []
  }
 ],
 "metadata": {
  "kernelspec": {
   "display_name": "Python 3",
   "language": "python",
   "name": "python3"
  },
  "language_info": {
   "codemirror_mode": {
    "name": "ipython",
    "version": 3
   },
   "file_extension": ".py",
   "mimetype": "text/x-python",
   "name": "python",
   "nbconvert_exporter": "python",
   "pygments_lexer": "ipython3",
   "version": "3.8.3"
  }
 },
 "nbformat": 4,
 "nbformat_minor": 4
}
