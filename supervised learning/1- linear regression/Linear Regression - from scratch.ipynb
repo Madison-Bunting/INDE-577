{
 "cells": [
  {
   "cell_type": "markdown",
   "metadata": {},
   "source": [
    "# Linear Regression\n",
    "This notebook will first build a linear regression model from scratch, then implement it with the [IBMEmployeeAttrition](https://github.com/Madison-Bunting/INDE-577/blob/main/IBMEmployeeAttrition.csv)."
   ]
  },
  {
   "cell_type": "code",
   "execution_count": 513,
   "metadata": {},
   "outputs": [],
   "source": [
    "#Always include important imports at the top\n",
    "import numpy as np #for linear algebra functions\n",
    "import pandas as pd #for data processing the CSV\n",
    "\n",
    "#visualization\n",
    "import seaborn as sns\n",
    "import matplotlib.pyplot as plt\n",
    "import matplotlib.patches as mpatches\n",
    "\n",
    "#sklearn imports\n",
    "from sklearn import preprocessing\n",
    "from sklearn.preprocessing import StandardScaler\n",
    "from sklearn.model_selection import train_test_split"
   ]
  },
  {
   "cell_type": "code",
   "execution_count": 514,
   "metadata": {},
   "outputs": [],
   "source": [
    "#importing the dataset as a dataframe\n",
    "df = pd.read_csv(\"https://raw.githubusercontent.com/Madison-Bunting/INDE-577/main/IBMEmployeeAttrition.csv\")"
   ]
  },
  {
   "cell_type": "markdown",
   "metadata": {},
   "source": [
    "Below is the code for a linear regression model, from scratch"
   ]
  },
  {
   "cell_type": "code",
   "execution_count": 515,
   "metadata": {},
   "outputs": [],
   "source": [
    "#Create a function to find the slope of the regression line\n",
    "def Slope(a,b):\n",
    "    n = len(a)\n",
    "    dot_sum = np.sum(a*b)\n",
    "    sumX = np.sum(a)\n",
    "    sumY = np.sum(b)\n",
    "    sumX2 = np.sum(a**2)\n",
    "    slope = (n * dot_sum - sumX * sumY)/(n * sumX2 - sumX**2)\n",
    "    return slope"
   ]
  },
  {
   "cell_type": "code",
   "execution_count": 516,
   "metadata": {},
   "outputs": [],
   "source": [
    "#Create a function to find the intercept of the linear regression line\n",
    "def Intercept(a,b):\n",
    "    intercept = np.mean(b) - Slope(a,b) * np.mean(a)\n",
    "    return intercept"
   ]
  },
  {
   "cell_type": "code",
   "execution_count": 517,
   "metadata": {},
   "outputs": [],
   "source": [
    "#Create a function to make predictions using the linear regression algorithm\n",
    "def Prediction(slope, x_input, intercept):\n",
    "    predict = slope * x_input + intercept\n",
    "    return predict"
   ]
  },
  {
   "cell_type": "code",
   "execution_count": 518,
   "metadata": {},
   "outputs": [],
   "source": [
    "#Create a function to find R-squared, which is the regression metric\n",
    "def R_squared(predicted_values, test_values):\n",
    "    f = predicted_values\n",
    "    y = test_values\n",
    "    sum_sq = np.sum((y - np.mean(y))**2) #equation for sum of squares\n",
    "    sum_reg = np.sum((f - np.mean(y))**2) #equation for regression sum\n",
    "    sum_res = np.sum((y - f)**2) #equation for residuals sum of squares\n",
    "    R_2 = 1 - (sum_res/sum_sq) #equation for R-squared\n",
    "    return R_2    "
   ]
  },
  {
   "cell_type": "code",
   "execution_count": 519,
   "metadata": {},
   "outputs": [],
   "source": [
    "#Create a function to find the correlation coefficient for given x and y values\n",
    "def Correlation_coeff(predicted_values, test_values):\n",
    "    a = predicted_values\n",
    "    b = test_values\n",
    "    n = len(a)\n",
    "    dot_sum = np.sum(a*b)\n",
    "    sumX = np.sum(a)\n",
    "    sumY = np.sum(b)\n",
    "    sumX2 = np.sum(a**2)\n",
    "    sumY2 = np.sum(b**2)\n",
    "    score = (n *dot_sum - sumX * sumY) / np.sqrt((n * sumX2 - (sumX)**2)*(n * sumY2 - (sumY)**2))\n",
    "    return score"
   ]
  },
  {
   "cell_type": "code",
   "execution_count": 520,
   "metadata": {},
   "outputs": [],
   "source": [
    "#Create a function to find the covariance for given x and y values\n",
    "def Covariance(X,Y):\n",
    "    a = X\n",
    "    b = Y\n",
    "    n = len(a)\n",
    "    dot_sum = np.sum(a*b)\n",
    "    cov = dot_sum / n - np.mean(a) * np.mean(b)\n",
    "    return cov"
   ]
  },
  {
   "cell_type": "markdown",
   "metadata": {},
   "source": [
    "## Pre-Processing\n",
    "Before we can run linear regression, we need to pre-process the data and encode labels. We will do this using sklearn's preprocessing package."
   ]
  },
  {
   "cell_type": "code",
   "execution_count": 580,
   "metadata": {},
   "outputs": [],
   "source": [
    "#Setting which variables will be compared in the regression\n",
    "X = encoded_df.YearsAtCompany\n",
    "y = encoded_df.YearsSinceLastPromotion"
   ]
  },
  {
   "cell_type": "code",
   "execution_count": 574,
   "metadata": {},
   "outputs": [],
   "source": [
    "#Create a function which takes the dataset as input and ouputs the processed dataset\n",
    "def preprocessor(df):\n",
    "    res_df = df.copy()\n",
    "    le = preprocessing.LabelEncoder()\n",
    "    \n",
    "    res_df['BusinessTravel'] = le.fit_transform(res_df['BusinessTravel'])\n",
    "    res_df['Department'] = le.fit_transform(res_df['Department'])\n",
    "    res_df['Education'] = le.fit_transform(res_df['Education'])\n",
    "    res_df['EducationField'] = le.fit_transform(res_df['EducationField'])\n",
    "    res_df['JobRole'] = le.fit_transform(res_df['JobRole'])\n",
    "    res_df['Gender'] = le.fit_transform(res_df['Gender'])\n",
    "    res_df['MaritalStatus'] = le.fit_transform(res_df['MaritalStatus'])\n",
    "    res_df['OverTime'] = le.fit_transform(res_df['OverTime'])\n",
    "    res_df['Attrition'] = le.fit_transform(res_df['Attrition'])\n",
    "    return res_df\n",
    "\n",
    "#Run the function on the desired dataset\n",
    "encoded_df = preprocessor(df)"
   ]
  },
  {
   "cell_type": "markdown",
   "metadata": {},
   "source": [
    "# Implementation\n",
    "We will now utilize the functions created above to evaluate the imported dataset For [IBMEmployeeAttrition](https://github.com/Madison-Bunting/INDE-577/blob/main/IBMEmployeeAttrition.csv) specifically, there are lots of variables on which one could run a regression."
   ]
  },
  {
   "cell_type": "code",
   "execution_count": 575,
   "metadata": {},
   "outputs": [],
   "source": [
    "#Divide the data into test and training sets\n",
    "X_train, X_test, y_train, y_test = train_test_split(X, y)"
   ]
  },
  {
   "cell_type": "code",
   "execution_count": 576,
   "metadata": {
    "scrolled": true
   },
   "outputs": [
    {
     "name": "stdout",
     "output_type": "stream",
     "text": [
      "R-squared: 0.6316527729594089\n",
      "Correlation Coefficient: 0.7964358844835541\n"
     ]
    }
   ],
   "source": [
    "#Find the intercept of the training regression line using the functions created previously\n",
    "intercept = Intercept(X_train,y_train)\n",
    "slope = Slope(X_train,y_train)\n",
    "\n",
    "predictions = Prediction(slope = slope,x_input = X_test, intercept = intercept)\n",
    "\n",
    "print(\"R-squared:\", R_squared(predicted_values = predictions, test_values = y_test))\n",
    "print(\"Correlation Coefficient:\", Correlation_coeff(test_values = y_test, predicted_values = predictions))"
   ]
  },
  {
   "cell_type": "code",
   "execution_count": 577,
   "metadata": {},
   "outputs": [],
   "source": [
    "#Equation of the regression line\n",
    "y_est = slope * X + intercept"
   ]
  },
  {
   "cell_type": "code",
   "execution_count": 578,
   "metadata": {},
   "outputs": [
    {
     "data": {
      "image/png": "[encoded data removed]",
      "text/plain": [
       "<Figure size 432x288 with 1 Axes>"
      ]
     },
     "metadata": {},
     "output_type": "display_data"
    }
   ],
   "source": [
    "#Plot the linear regression function\n",
    "plt.scatter(X,y, c='r')\n",
    "plt.plot(X,y_est, color = 'b',linewidth=2)\n",
    "blue_patch = mpatches.Patch(label='Regression Line')\n",
    "plt.legend(loc=0,handles=[blue_patch])\n",
    "plt.title('Linear Regression of Age vs Monthly Income', y=1.1)\n",
    "plt.ylabel('Years Since Last Promotion')\n",
    "plt.xlabel('Years At Company')\n",
    "plt.tight_layout(pad=2)\n",
    "plt.grid(False)\n",
    "plt.show()"
   ]
  },
  {
   "cell_type": "code",
   "execution_count": 579,
   "metadata": {},
   "outputs": [
    {
     "data": {
      "image/png": "[encoded data removed]",
      "text/plain": [
       "<Figure size 432x288 with 1 Axes>"
      ]
     },
     "metadata": {},
     "output_type": "display_data"
    }
   ],
   "source": [
    "#Residual plot\n",
    "sns.set(style=\"whitegrid\")\n",
    "sns.residplot(X, y, lowess=True, color=\"r\")\n",
    "plt.title('Residual Plot')\n",
    "plt.ylabel('Years Since Last Promotion')\n",
    "plt.xlabel('Years At Company')\n",
    "plt.show()"
   ]
  },
  {
   "cell_type": "code",
   "execution_count": null,
   "metadata": {},
   "outputs": [],
   "source": []
  }
 ],
 "metadata": {
  "kernelspec": {
   "display_name": "Python 3",
   "language": "python",
   "name": "python3"
  },
  "language_info": {
   "codemirror_mode": {
    "name": "ipython",
    "version": 3
   },
   "file_extension": ".py",
   "mimetype": "text/x-python",
   "name": "python",
   "nbconvert_exporter": "python",
   "pygments_lexer": "ipython3",
   "version": "3.8.3"
  }
 },
 "nbformat": 4,
 "nbformat_minor": 4
}
