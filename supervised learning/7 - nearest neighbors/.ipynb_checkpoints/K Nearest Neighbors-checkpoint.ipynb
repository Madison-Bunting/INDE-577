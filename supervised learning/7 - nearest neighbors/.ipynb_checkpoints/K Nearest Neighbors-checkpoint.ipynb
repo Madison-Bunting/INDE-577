{
 "cells": [
  {
   "cell_type": "markdown",
   "metadata": {},
   "source": [
    "# K Nearest Neighbors (KNN)\n",
    "This notebook will demonstrate an application of K Nearest Neighbors on the IBMEmployeeAttrition dataset."
   ]
  },
  {
   "cell_type": "code",
   "execution_count": 52,
   "metadata": {},
   "outputs": [],
   "source": [
    "#Always include important imports at the top\n",
    "import numpy as np #for linear algebra functions\n",
    "import pandas as pd #for data processing the CSV\n",
    "import seaborn as sns\n",
    "import matplotlib.pyplot as plt\n",
    "\n",
    "#sklearn imports\n",
    "from sklearn.preprocessing import LabelEncoder\n",
    "from sklearn.neighbors import KNeighborsClassifier\n",
    "from sklearn.model_selection import cross_val_score \n",
    "from sklearn.model_selection import train_test_split\n",
    "from sklearn.model_selection import cross_val_predict, cross_val_score\n",
    "from sklearn.metrics import accuracy_score, classification_report\n",
    "from sklearn.metrics import confusion_matrix\n",
    "\n",
    "#importing the dataset as a dataframe\n",
    "df = pd.read_csv(\"https://raw.githubusercontent.com/Madison-Bunting/INDE-577/main/IBMEmployeeAttrition.csv\")"
   ]
  },
  {
   "cell_type": "markdown",
   "metadata": {},
   "source": [
    "Preprocess the data by removing variables with zero variance (as uncovered in the [Exploring A New Dataset](https://github.com/Madison-Bunting/INDE-577/blob/main/Exploring%20a%20New%20Dataset.ipynb) Notebook."
   ]
  },
  {
   "cell_type": "code",
   "execution_count": 44,
   "metadata": {},
   "outputs": [],
   "source": [
    "#Drop variables with zero variance: EmployeeCount, Over18, and StandardHours\n",
    "df.drop('EmployeeCount', axis = 1, inplace = True)\n",
    "df.drop('Over18', axis = 1, inplace = True)\n",
    "df.drop('StandardHours', axis = 1, inplace = True)"
   ]
  },
  {
   "cell_type": "code",
   "execution_count": 45,
   "metadata": {},
   "outputs": [],
   "source": [
    "#Code Input and Output data\n",
    "y = df.iloc[:, 1]\n",
    "X = df\n",
    "X.drop('Attrition', axis = 1, inplace = True)"
   ]
  },
  {
   "cell_type": "code",
   "execution_count": 46,
   "metadata": {},
   "outputs": [],
   "source": [
    "#Encode labels\n",
    "lb = LabelEncoder()\n",
    "y = lb.fit_transform(y)"
   ]
  },
  {
   "cell_type": "markdown",
   "metadata": {},
   "source": [
    "This dataset has 7 categorical variables that need to be changed into integer data, so they can be further used for analysis. To incrase accuracy, create \"dummy\" variables. "
   ]
  },
  {
   "cell_type": "code",
   "execution_count": 47,
   "metadata": {},
   "outputs": [
    {
     "name": "stdout",
     "output_type": "stream",
     "text": [
      "(1470, 50)\n",
      "(1470,)\n"
     ]
    }
   ],
   "source": [
    "#Create dummy variables\n",
    "dum_BusinessTravel = pd.get_dummies(df['BusinessTravel'], \n",
    "                                    prefix ='BusinessTravel')\n",
    "dum_Department = pd.get_dummies(df['Department'], \n",
    "                                prefix ='Department')\n",
    "dum_EducationField = pd.get_dummies(df['EducationField'], \n",
    "                                    prefix ='EducationField')\n",
    "dum_Gender = pd.get_dummies(df['Gender'], \n",
    "                            prefix ='Gender', drop_first = True)\n",
    "dum_JobRole = pd.get_dummies(df['JobRole'], \n",
    "                             prefix ='JobRole')\n",
    "dum_MaritalStatus = pd.get_dummies(df['MaritalStatus'], \n",
    "                                   prefix ='MaritalStatus')\n",
    "dum_OverTime = pd.get_dummies(df['OverTime'], \n",
    "                              prefix ='OverTime', drop_first = True)\n",
    "\n",
    "#Add the dummy varialbes to the input X\n",
    "X = pd.concat([X, dum_BusinessTravel, dum_Department, \n",
    "               dum_EducationField, dum_Gender, dum_JobRole, \n",
    "               dum_MaritalStatus, dum_OverTime], axis = 1)\n",
    "\n",
    "#Remove the categorical data\n",
    "X.drop(['BusinessTravel', 'Department', 'EducationField', \n",
    "        'Gender', 'JobRole', 'MaritalStatus', 'OverTime'], \n",
    "        axis = 1, inplace = True)\n",
    "\n",
    "#Confirm replacing the categorical data with dummy variables worked\n",
    "print(X.shape)\n",
    "print(y.shape)"
   ]
  },
  {
   "cell_type": "markdown",
   "metadata": {},
   "source": [
    "## Split into Train and Test data\n",
    "To apply K-Nearest-Neighbors, the data must be split into \"training\" and \"test\" data. Sklearn's built-in KNeighborsClassifier finds the best number of neighbors with the help of misclassification error."
   ]
  },
  {
   "cell_type": "code",
   "execution_count": 49,
   "metadata": {},
   "outputs": [],
   "source": [
    "#Create training and test sets\n",
    "X_train, X_test, y_train, y_test = train_test_split(\n",
    "    X, y, test_size = 0.25, random_state = 40)\n",
    "\n",
    "neighbors = [] \n",
    "cv_scores = [] \n",
    "\n",
    "#Perform 10 fold cross-validation\n",
    "for k in range(1, 40, 2): \n",
    "    neighbors.append(k) \n",
    "    knn = KNeighborsClassifier(n_neighbors = k) \n",
    "    scores = cross_val_score( \n",
    "        knn, X_train, y_train, cv = 10, scoring = 'accuracy') \n",
    "    cv_scores.append(scores.mean())\n",
    "error_rate = [1-x for x in cv_scores] "
   ]
  },
  {
   "cell_type": "code",
   "execution_count": 50,
   "metadata": {},
   "outputs": [
    {
     "name": "stdout",
     "output_type": "stream",
     "text": [
      "The optimal number of neighbors is  19 \n"
     ]
    }
   ],
   "source": [
    "#Determine the best k\n",
    "optimal_k = neighbors[error_rate.index(min(error_rate))] \n",
    "print('The optimal number of neighbors is % d ' % optimal_k) "
   ]
  },
  {
   "cell_type": "code",
   "execution_count": 51,
   "metadata": {},
   "outputs": [
    {
     "data": {
      "image/png": "[encoded data removed]",
      "text/plain": [
       "<Figure size 432x288 with 1 Axes>"
      ]
     },
     "metadata": {
      "needs_background": "light"
     },
     "output_type": "display_data"
    }
   ],
   "source": [
    "#Plot misclassification error vs k\n",
    "plt.plot(range(1, 40, 2), error_rate, color ='blue', linestyle ='dashed', marker ='o',\n",
    "         markerfacecolor ='red', markersize = 10)\n",
    "plt.xlabel('Number of neighbors') \n",
    "plt.ylabel('Misclassification Error') \n",
    "plt.show() "
   ]
  },
  {
   "cell_type": "code",
   "execution_count": 54,
   "metadata": {},
   "outputs": [
    {
     "name": "stdout",
     "output_type": "stream",
     "text": [
      "Train Result:\n",
      "------------\n",
      "Classification Report: \n",
      "               precision    recall  f1-score   support\n",
      "\n",
      "           0       0.86      0.99      0.92       922\n",
      "           1       0.76      0.14      0.23       180\n",
      "\n",
      "    accuracy                           0.85      1102\n",
      "   macro avg       0.81      0.57      0.58      1102\n",
      "weighted avg       0.84      0.85      0.81      1102\n",
      "\n",
      "\n",
      "Confusion Matrix: \n",
      " [[914   8]\n",
      " [155  25]]\n",
      "\n",
      "Average Accuracy: \t 0.8321\n",
      "Accuracy SD: \t\t 0.0149\n",
      "accuracy score: 0.8521\n",
      "\n",
      "----------------------------------------------------------\n",
      "Test Result:\n",
      "-----------\n",
      "Classification Report: \n",
      "               precision    recall  f1-score   support\n",
      "\n",
      "           0       0.85      0.96      0.90       311\n",
      "           1       0.29      0.09      0.14        57\n",
      "\n",
      "    accuracy                           0.83       368\n",
      "   macro avg       0.57      0.52      0.52       368\n",
      "weighted avg       0.77      0.83      0.78       368\n",
      "\n",
      "\n",
      "Confusion Matrix: \n",
      " [[299  12]\n",
      " [ 52   5]]\n",
      "\n",
      "accuracy score: 0.8261\n",
      "\n",
      "-----------------------------------------------------------\n"
     ]
    }
   ],
   "source": [
    "#Create a function that will nicely format the results into a table\n",
    "def print_score(clf, X_train, y_train, X_test, y_test, train = True):\n",
    "    if train:\n",
    "        print(\"Train Result:\")\n",
    "        print(\"------------\")\n",
    "        print(\"Classification Report: \\n {}\\n\".format(classification_report(\n",
    "                y_train, clf.predict(X_train))))\n",
    "        print(\"Confusion Matrix: \\n {}\\n\".format(confusion_matrix(\n",
    "                y_train, clf.predict(X_train))))\n",
    "  \n",
    "        res = cross_val_score(clf, X_train, y_train, \n",
    "                              cv = 10, scoring ='accuracy')\n",
    "        print(\"Average Accuracy: \\t {0:.4f}\".format(np.mean(res)))\n",
    "        print(\"Accuracy SD: \\t\\t {0:.4f}\".format(np.std(res)))\n",
    "        print(\"accuracy score: {0:.4f}\\n\".format(accuracy_score(\n",
    "                y_train, clf.predict(X_train))))\n",
    "        print(\"----------------------------------------------------------\")\n",
    "                 \n",
    "    elif train == False:\n",
    "        print(\"Test Result:\")\n",
    "        print(\"-----------\")\n",
    "        print(\"Classification Report: \\n {}\\n\".format(\n",
    "                classification_report(y_test, clf.predict(X_test))))\n",
    "        print(\"Confusion Matrix: \\n {}\\n\".format(\n",
    "                confusion_matrix(y_test, clf.predict(X_test)))) \n",
    "        print(\"accuracy score: {0:.4f}\\n\".format(\n",
    "                accuracy_score(y_test, clf.predict(X_test))))\n",
    "        print(\"-----------------------------------------------------------\")\n",
    "          \n",
    "knn = KNeighborsClassifier(n_neighbors = 7)\n",
    "knn.fit(X_train, y_train)\n",
    "print_score(knn, X_train, y_train, X_test, y_test, train = True)\n",
    "print_score(knn, X_train, y_train, X_test, y_test, train = False)"
   ]
  },
  {
   "cell_type": "code",
   "execution_count": null,
   "metadata": {},
   "outputs": [],
   "source": []
  }
 ],
 "metadata": {
  "kernelspec": {
   "display_name": "Python 3",
   "language": "python",
   "name": "python3"
  },
  "language_info": {
   "codemirror_mode": {
    "name": "ipython",
    "version": 3
   },
   "file_extension": ".py",
   "mimetype": "text/x-python",
   "name": "python",
   "nbconvert_exporter": "python",
   "pygments_lexer": "ipython3",
   "version": "3.8.3"
  }
 },
 "nbformat": 4,
 "nbformat_minor": 4
}
